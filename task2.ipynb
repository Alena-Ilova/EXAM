{
 "cells": [
  {
   "cell_type": "code",
   "execution_count": 4,
   "id": "bab83a55-456a-49d7-b6d9-c33cfd64d890",
   "metadata": {
    "tags": []
   },
   "outputs": [
    {
     "name": "stdout",
     "output_type": "stream",
     "text": [
      "True\n",
      "False\n",
      "True\n",
      "False\n"
     ]
    }
   ],
   "source": [
    "def is_power(n, base):\n",
    "    if base <= 1:\n",
    "          return n == 1\n",
    "\n",
    "    while n > 1:\n",
    "        if n % base != 0:\n",
    "            return False\n",
    "        n //= base \n",
    "    return n == 1\n",
    "\n",
    "print(is_power(16, 2))\n",
    "print(is_power(12, 2))\n",
    "print(is_power(100000, 10))\n",
    "print(is_power(990, 9))"
   ]
  },
  {
   "cell_type": "code",
   "execution_count": null,
   "id": "bf321900-46dd-48a6-9bce-cc8be1298b2e",
   "metadata": {},
   "outputs": [],
   "source": []
  }
 ],
 "metadata": {
  "kernelspec": {
   "display_name": "Python 3 (ipykernel)",
   "language": "python",
   "name": "python3"
  },
  "language_info": {
   "codemirror_mode": {
    "name": "ipython",
    "version": 3
   },
   "file_extension": ".py",
   "mimetype": "text/x-python",
   "name": "python",
   "nbconvert_exporter": "python",
   "pygments_lexer": "ipython3",
   "version": "3.10.8"
  }
 },
 "nbformat": 4,
 "nbformat_minor": 5
}
